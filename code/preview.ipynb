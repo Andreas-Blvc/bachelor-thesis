{
 "cells": [
  {
   "cell_type": "markdown",
   "id": "2d0d02fccf4e88f0",
   "metadata": {},
   "source": [
    "### Different Scenarios\n",
    "\n",
    "Run imports:"
   ]
  },
  {
   "cell_type": "code",
   "id": "initial_id",
   "metadata": {
    "ExecuteTime": {
     "end_time": "2025-02-24T18:48:56.036829Z",
     "start_time": "2025-02-24T18:48:56.010202Z"
    }
   },
   "source": [
    "from roads import load_road\n",
    "\n",
    "import visualizer\n",
    "from visualizer import plot_with_bounds\n",
    "%matplotlib notebook\n",
    "%matplotlib inline\n",
    "\n",
    "\n",
    "road = load_road('./data/straight.pkl')\n",
    "print(road.get_road_position(7.7142857142857135, 115.57142857142857))\n",
    "#\n",
    "# N = 100\n",
    "# plot_with_bounds('n', [\n",
    "#     [\n",
    "#        road.n_min(i/N * road.length),\n",
    "#        road.n_max(i/N * road.length)\n",
    "#     ] for i in range(N)\n",
    "# ],\n",
    "#                  x_values=[i/N * road.length for i in range(N)],\n",
    "#                  no_bounds=True\n",
    "#                  )\n",
    "#\n",
    "# min(road.n_max(x, road_segment_idx=1) for x in np.linspace(0, 1, 1000))\n",
    "# for i in range(10):\n",
    "#     print(road.get_tangent_angle_at(i * road.length/10))\n",
    "    # print(road.get_global_position(i * road.length/10, 0))"
   ],
   "outputs": [
    {
     "name": "stdout",
     "output_type": "stream",
     "text": [
      "(0.0, -1.0)\n"
     ]
    }
   ],
   "execution_count": 2
  },
  {
   "cell_type": "markdown",
   "id": "c5d34b451776f99",
   "metadata": {},
   "source": "#### Benchmarks"
  },
  {
   "metadata": {
    "jupyter": {
     "is_executing": true
    },
    "ExecuteTime": {
     "start_time": "2025-02-25T18:06:46.059076Z"
    }
   },
   "cell_type": "code",
   "source": [
    "import benchmark\n",
    "from path_planner import Objectives\n",
    "%matplotlib notebook\n",
    "%matplotlib inline\n",
    "# TODO: solver currently adds v >= 3 as a constraint on the states\n",
    "cfg = benchmark.config\n",
    "benchmarks = benchmark.run(\n",
    "    benchmark.BenchmarkConfiguration(\n",
    "        start_velocities=[\n",
    "            5,\n",
    "            10,\n",
    "            20,\n",
    "        ],\n",
    "        start_offset=cfg.LateralOffset.Mid,\n",
    "        velocity_range=(0.7, 1),\n",
    "        roads=[\n",
    "            cfg.Road.Straight,\n",
    "            cfg.Road.Left_Turn,\n",
    "            cfg.Road.Lane_Change,\n",
    "            cfg.Road.Slalom,\n",
    "            cfg.Road.ElchTest_One,\n",
    "            cfg.Road.Feasible_Curve,\n",
    "            cfg.Road.Infeasible_Curve,\n",
    "            cfg.Road.Random,\n",
    "        ],\n",
    "        time_horizon=cfg.TimeHoriozon.Medium,\n",
    "        time_discretization=cfg.TimeDiscretization.PlateauLinear(1/50, 1/60, 5),\n",
    "        models=[\n",
    "            # (cfg.Model.PointMassModel, cfg.SolverType.Convex),\n",
    "            (cfg.Model.BicycleModel, cfg.SolverType.Convex),\n",
    "        ],\n",
    "        objectives=[\n",
    "            # Objectives.maximize_distance,\n",
    "            # Objectives.minimize_offset_from_reference_path,\n",
    "            Objectives.minimize_control_derivatives,\n",
    "            Objectives.minimize_control_derivatives_offset_maximize_distance\n",
    "        ],\n",
    "        replanning_steps=5\n",
    "    ),\n",
    ")\n",
    "\n",
    "\n",
    "\n",
    "for benchmark in benchmarks:\n",
    "    benchmark.save_animation()\n",
    "    benchmark.save_stats()\n",
    "    benchmark.save_to_csv()\n",
    "    # -----------------------\n",
    "    # display(benchmark.get_animation())\n",
    "    # benchmark.car.predictive_model.plot_additional_information([\n",
    "    #     state for state, _ in benchmark.car.predictive_model_states\n",
    "    # ], [\n",
    "    #     control for control, _ in benchmark.car.predictive_model_controls\n",
    "    # ])\n",
    "    # benchmark.plot_car_states()\n",
    "    # benchmark.plot_predictive_car_states()\n",
    "    # benchmark.plot_controls()\n",
    "    # benchmark.plot_predictive_controls()\n",
    "    # benchmark.car.plot_metrics()\n",
    "\n",
    "# rsync -avh ~/bachelor-thesis/code/benchmark-results/* andreas@wg-server.net:~/files\n",
    "\n"
   ],
   "id": "ec7dcabbb33095ad",
   "outputs": [
    {
     "name": "stdout",
     "output_type": "stream",
     "text": [
      "Progress: [█-----------------------------------------------------------------------------------------------------------------------------------------------------------------------------------] 0.69%  of the Road Complete, current state: Global Position x: 8.95, Global Postion y: 116.57, Steering Angle: -0.00, Velocity: 4.90, Orientation: -0.00, Yaw Rate: -0.00, Slip Angle: -0.00, planned next 83.33ms in 8.07ms          "
     ]
    }
   ],
   "execution_count": null
  },
  {
   "metadata": {},
   "cell_type": "markdown",
   "source": "#### Small-Angle-Approximation",
   "id": "315208cff81c2219"
  },
  {
   "metadata": {
    "ExecuteTime": {
     "end_time": "2025-02-24T18:49:02.123693Z",
     "start_time": "2025-02-20T22:12:28.007743Z"
    }
   },
   "cell_type": "code",
   "source": [
    "import numpy as np\n",
    "from visualizer import plot_with_bounds\n",
    "from math import radians\n",
    "\n",
    "from self_driving_cars import DynamicSingleTrackModel\n",
    "from models import PointMassModel, BicycleModel, AbstractVehicleModel\n",
    "from roads import load_road\n",
    "from path_planner import NonConvexPathPlanner\n",
    "%matplotlib notebook\n",
    "%matplotlib inline\n",
    "\n",
    "\n",
    "road = load_road('./data/left_turn.pkl')\n",
    "dt = 1/100\n",
    "\n",
    "kst = BicycleModel(\n",
    "    road=road,\n",
    "    v_range=(0, 10),\n",
    "    acc_range=(-6, 3),\n",
    "    steering_angle_range=(radians(-30), radians(30)),\n",
    "    steering_velocity_range=(-2, 2),\n",
    "    l_wb=0.883+1.508,\n",
    ")\n",
    "\n",
    "point_mass = PointMassModel(\n",
    "    road=road,\n",
    "    v_x_range=(0, 10),\n",
    "    v_y_range=(-4, 4),\n",
    "    acc_x_range=(-4, 4),\n",
    "    acc_y_range=(-4, 4),\n",
    "    yaw_rate_range=(-4, 4),\n",
    "    yaw_acc_range=(-4, 4),\n",
    "    a_max=8,\n",
    ")\n",
    "\n",
    "velocity = 2\n",
    "x, y = road.get_global_position(0, 0)\n",
    "# 0: Global Position x,\n",
    "# 1: Global Postion y,\n",
    "# 2: Steering Angle,\n",
    "# 3: Velocity,\n",
    "# 4: Orientation,\n",
    "# 5: Yaw Rate,\n",
    "# 6: Slip Angle\n",
    "car_initial_state = np.array([\n",
    "        x, y, 0, velocity, road.get_tangent_angle_at(0), 0, 0\n",
    "    ])\n",
    "\n",
    "car = DynamicSingleTrackModel(\n",
    "    predictive_model=point_mass,  # won't be used\n",
    "    initial_state=car_initial_state,\n",
    "    planner= NonConvexPathPlanner(point_mass, dt, 1, lambda:_),# won't be used\n",
    "    velocity_range=(0, 10),\n",
    "    acceleration_range=(-4, 4),\n",
    "    steering_range=(radians(-30), radians(30)),\n",
    "    steering_velocity_range=(-2, 2),\n",
    "    road=road,\n",
    ")\n",
    "\n",
    "point_mass_initial_state = point_mass.get_state_vec_from_dsm(car_initial_state)\n",
    "\n",
    "kst_cur = kst.get_state_vec_from_dsm(car_initial_state)\n",
    "pm_cur = point_mass_initial_state\n",
    "car_cur = car_initial_state\n",
    "\n",
    "y_values_list = [\n",
    "        [\n",
    "            point_mass.convert_vec_to_state(\n",
    "                (pm_cur, pm_cur := point_mass.forward_euler_step(\n",
    "                    last_pm := pm_cur,\n",
    "                    np.array([0, 0]),\n",
    "                    dt)[0])[0]\n",
    "            ).get_position_orientation()[-1],\n",
    "            (car_cur, car_cur := car._update(\n",
    "                car_cur,\n",
    "                point_mass.get_dsm_control_from_vec(\n",
    "                    np.array([0, 0]),\n",
    "                    last_pm,\n",
    "                    None,\n",
    "                    dt,\n",
    "                    None,\n",
    "                    AbstractVehicleModel.CarState(car_cur[2], car_cur[4]),\n",
    "                ),\n",
    "                dt\n",
    "                )\n",
    "            )[0][4]\n",
    "        ] for _ in range(1000)\n",
    "    ]\n",
    "# print(y_values_list)\n",
    "plot_with_bounds(\n",
    "    y_values_list=y_values_list,\n",
    "    y_labels=[\n",
    "        'Point mass orientation',\n",
    "        'Car Orientation'\n",
    "    ],\n",
    "    y_label=\"\",\n",
    "    no_bounds=True,\n",
    "    store_as_pgf=True,\n",
    "    pgf_name='lag_orientation.pgf',\n",
    ")\n"
   ],
   "id": "4f3308ce413f63c3",
   "outputs": [],
   "execution_count": 13
  },
  {
   "cell_type": "markdown",
   "id": "b5037f7222fbc156",
   "metadata": {},
   "source": "#### Visualize McCormick"
  },
  {
   "cell_type": "code",
   "id": "e9992f21933fc8b3",
   "metadata": {
    "ExecuteTime": {
     "end_time": "2025-02-24T18:49:02.129826Z",
     "start_time": "2025-02-19T12:45:39.432134Z"
    }
   },
   "source": [
    "import visualizer\n",
    "x_bounds=(-2, 3)\n",
    "y_bounds=(-10, 10)\n",
    "\n",
    "visualizer.visualize_mccormick(x_bounds, y_bounds)\n",
    "visualizer.visualize_mccormick_2d_interactive(x_bounds, y_bounds)"
   ],
   "outputs": [
    {
     "name": "stderr",
     "output_type": "stream",
     "text": [
      "2025-02-19 13:45:42.014 Python[72369:12893793] +[IMKClient subclass]: chose IMKClient_Modern\n",
      "2025-02-19 13:45:42.014 Python[72369:12893793] +[IMKInputSession subclass]: chose IMKInputSession_Modern\n"
     ]
    },
    {
     "data": {
      "text/plain": [
       "interactive(children=(FloatSlider(value=0.0, continuous_update=False, description='y_fixed', max=10.0, min=-10…"
      ],
      "application/vnd.jupyter.widget-view+json": {
       "version_major": 2,
       "version_minor": 0,
       "model_id": "a835c89cdb4b4b2697188819b626365a"
      }
     },
     "metadata": {},
     "output_type": "display_data"
    }
   ],
   "execution_count": 4
  },
  {
   "metadata": {
    "ExecuteTime": {
     "end_time": "2025-02-24T18:49:02.132056Z",
     "start_time": "2025-02-19T12:45:27.447736Z"
    }
   },
   "cell_type": "code",
   "source": "",
   "id": "e5a7a6f9b3c9b7e5",
   "outputs": [],
   "execution_count": null
  }
 ],
 "metadata": {
  "kernelspec": {
   "display_name": "Python 3 (ipykernel)",
   "language": "python",
   "name": "python3"
  },
  "language_info": {
   "codemirror_mode": {
    "name": "ipython",
    "version": 3
   },
   "file_extension": ".py",
   "mimetype": "text/x-python",
   "name": "python",
   "nbconvert_exporter": "python",
   "pygments_lexer": "ipython3",
   "version": "3.11.3"
  }
 },
 "nbformat": 4,
 "nbformat_minor": 5
}
