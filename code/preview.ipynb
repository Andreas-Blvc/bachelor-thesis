{
 "cells": [
  {
   "cell_type": "markdown",
   "id": "c5d34b451776f99",
   "metadata": {},
   "source": "#### Benchmarks"
  },
  {
   "metadata": {},
   "cell_type": "code",
   "source": [
    "import benchmark\n",
    "from path_planner import Objectives\n",
    "%matplotlib notebook\n",
    "%matplotlib inline\n",
    "\n",
    "cfg = benchmark.config\n",
    "benchmarks = benchmark.run(\n",
    "    benchmark.BenchmarkConfiguration(\n",
    "        start_velocities=[\n",
    "            # 5,\n",
    "            6,\n",
    "            # 20,\n",
    "        ],\n",
    "        start_offset=cfg.LateralOffset.Mid,\n",
    "        velocity_range=(0.6, 1),\n",
    "        roads=[\n",
    "            # cfg.Road.Straight,\n",
    "            # cfg.Road.Left_Turn,\n",
    "            # cfg.Road.Lane_Change,\n",
    "            # cfg.Road.Slalom,\n",
    "            # cfg.Road.ElchTest_One,\n",
    "            # cfg.Road.Feasible_Curve,\n",
    "            # cfg.Road.Infeasible_Curve,\n",
    "            cfg.Road.Nice,\n",
    "        ],\n",
    "        time_horizon=cfg.TimeHoriozon.Medium,\n",
    "        time_discretization=cfg.TimeDiscretization.PlateauLinear(1/100, 1/60, 5),\n",
    "        models=[\n",
    "            (cfg.Model.PointMassModel, cfg.SolverType.Convex),\n",
    "            (cfg.Model.BicycleModel, cfg.SolverType.Convex),\n",
    "            # (cfg.Model.BicycleModel, cfg.SolverType.NonConvex),\n",
    "        ],\n",
    "        objectives=[\n",
    "            # Objectives.maximize_distance,\n",
    "            # Objectives.minimize_offset_from_reference_path,\n",
    "            # Objectives.minimize_control_derivatives,\n",
    "            # Objectives.minimize_offset_maximize_distance,\n",
    "            Objectives.minimize_control_derivatives_offset_maximize_distance\n",
    "        ],\n",
    "        replanning_steps=5\n",
    "    ),\n",
    ")\n",
    "\n",
    "\n",
    "for benchmark in benchmarks:\n",
    "    display(benchmark.get_animation())\n",
    "    # benchmark.plot_car_states()\n",
    "    # benchmark.plot_predictive_car_states()\n",
    "    # benchmark.plot_controls()\n",
    "    # benchmark.plot_predictive_controls()\n",
    "    # benchmark.car.plot_metrics()\n",
    "\n"
   ],
   "id": "ec7dcabbb33095ad",
   "outputs": [],
   "execution_count": null
  }
 ],
 "metadata": {
  "kernelspec": {
   "display_name": "Python 3 (ipykernel)",
   "language": "python",
   "name": "python3"
  },
  "language_info": {
   "codemirror_mode": {
    "name": "ipython",
    "version": 3
   },
   "file_extension": ".py",
   "mimetype": "text/x-python",
   "name": "python",
   "nbconvert_exporter": "python",
   "pygments_lexer": "ipython3",
   "version": "3.11.3"
  }
 },
 "nbformat": 4,
 "nbformat_minor": 5
}
