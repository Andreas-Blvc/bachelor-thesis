{
 "cells": [
  {
   "cell_type": "markdown",
   "id": "2d0d02fccf4e88f0",
   "metadata": {},
   "source": [
    "### Different Scenarios\n",
    "\n",
    "Run imports:"
   ]
  },
  {
   "cell_type": "code",
   "id": "initial_id",
   "metadata": {
    "ExecuteTime": {
     "end_time": "2024-11-19T18:37:39.530237Z",
     "start_time": "2024-11-19T18:37:38.730510Z"
    }
   },
   "source": [
    "import scenarios, visualizer as v\n",
    "%matplotlib notebook\n",
    "%matplotlib inline"
   ],
   "outputs": [],
   "execution_count": 1
  },
  {
   "cell_type": "markdown",
   "id": "c5d34b451776f99",
   "metadata": {},
   "source": [
    "A model with Orientation and a Steering Angle that follow a road:"
   ]
  },
  {
   "cell_type": "code",
   "id": "ec7dcabbb33095ad",
   "metadata": {},
   "source": [
    "# Parameters:\n",
    "v_min = 1\n",
    "v_max = 4\n",
    "v_start = 4\n",
    "visualizer = v.VehiclePathVisualizer()\n",
    "scenario = scenarios.collection.oriented_road_following.create_scenario(v_min, v_max, v_start)\n",
    "scenario.visualize(visualizer)"
   ],
   "outputs": [],
   "execution_count": null
  },
  {
   "cell_type": "markdown",
   "id": "b5037f7222fbc156",
   "metadata": {},
   "source": "Visualize McCormick"
  },
  {
   "cell_type": "code",
   "id": "e9992f21933fc8b3",
   "metadata": {
    "ExecuteTime": {
     "end_time": "2024-11-19T18:46:10.830347Z",
     "start_time": "2024-11-19T18:46:10.634063Z"
    }
   },
   "source": [
    "v.visualize_mccormick_2d_interactive(\n",
    "    x_bounds=(-2, 200),\n",
    "    y_bounds=(4, 10),\n",
    ")"
   ],
   "outputs": [
    {
     "data": {
      "text/plain": [
       "interactive(children=(FloatSlider(value=7.0, description='y_fixed', max=10.0, min=4.0, step=0.06), Output()), …"
      ],
      "application/vnd.jupyter.widget-view+json": {
       "version_major": 2,
       "version_minor": 0,
       "model_id": "65d45661aa6345268e0ca8a301dfb503"
      }
     },
     "metadata": {},
     "output_type": "display_data"
    }
   ],
   "execution_count": 3
  }
 ],
 "metadata": {
  "kernelspec": {
   "display_name": "Python 3 (ipykernel)",
   "language": "python",
   "name": "python3"
  },
  "language_info": {
   "codemirror_mode": {
    "name": "ipython",
    "version": 3
   },
   "file_extension": ".py",
   "mimetype": "text/x-python",
   "name": "python",
   "nbconvert_exporter": "python",
   "pygments_lexer": "ipython3",
   "version": "3.11.3"
  }
 },
 "nbformat": 4,
 "nbformat_minor": 5
}
