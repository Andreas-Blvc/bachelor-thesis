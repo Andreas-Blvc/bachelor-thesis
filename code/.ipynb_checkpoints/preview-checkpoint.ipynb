{
 "cells": [
  {
   "metadata": {},
   "cell_type": "markdown",
   "source": [
    "### Different Scenarios\n",
    "\n",
    "Run imports:"
   ],
   "id": "2d0d02fccf4e88f0"
  },
  {
   "cell_type": "code",
   "id": "initial_id",
   "metadata": {
    "collapsed": true
   },
   "source": [
    "from visualizer import VehiclePathVisualizer\n",
    "import scenarios\n",
    "from visualizer import visualize_mccormick\n",
    "%matplotlib notebook"
   ],
   "outputs": [],
   "execution_count": null
  },
  {
   "metadata": {},
   "cell_type": "markdown",
   "source": "A model with Orientation and a Steering Angle that follow a road:",
   "id": "c5d34b451776f99"
  },
  {
   "metadata": {},
   "cell_type": "code",
   "source": [
    "# Parameters:\n",
    "v_min = 1\n",
    "v_max = 4\n",
    "v_start = 4\n",
    "visualizer = VehiclePathVisualizer()\n",
    "scenario = scenarios.collection.oriented_road_following.create_scenario(v_min, v_max, v_start)\n",
    "scenario.visualize(visualizer)"
   ],
   "id": "ec7dcabbb33095ad",
   "outputs": [],
   "execution_count": null
  },
  {
   "metadata": {},
   "cell_type": "markdown",
   "source": "Visualize McCormickMcCormick",
   "id": "b5037f7222fbc156"
  },
  {
   "metadata": {},
   "cell_type": "code",
   "source": "visualize_mccormick((-5, 5), (-1, 1), resolution=100)",
   "id": "e9992f21933fc8b3",
   "outputs": [],
   "execution_count": null
  }
 ],
 "metadata": {
  "kernelspec": {
   "display_name": "Python 3",
   "language": "python",
   "name": "python3"
  },
  "language_info": {
   "codemirror_mode": {
    "name": "ipython",
    "version": 2
   },
   "file_extension": ".py",
   "mimetype": "text/x-python",
   "name": "python",
   "nbconvert_exporter": "python",
   "pygments_lexer": "ipython2",
   "version": "2.7.6"
  }
 },
 "nbformat": 4,
 "nbformat_minor": 5
}
